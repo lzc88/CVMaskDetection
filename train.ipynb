{
 "cells": [
  {
   "cell_type": "code",
   "execution_count": 1,
   "metadata": {},
   "outputs": [],
   "source": [
    "import utils\n",
    "import matplotlib.pyplot as plt\n",
    "\n",
    "import cv2\n",
    "\n",
    "import torch\n",
    "import torchvision"
   ]
  },
  {
   "cell_type": "code",
   "execution_count": 2,
   "metadata": {},
   "outputs": [],
   "source": [
    "class Image:\n",
    "\n",
    "    def __init__(self, img_path, box_path):\n",
    "\n",
    "        box, labels = utils.get_box_data(box_path)\n",
    "\n",
    "        self.img = cv2.cvtColor(cv2.imread(img_path), cv2.COLOR_BGR2RGB) # RGB, H x W x C\n",
    "        self.box = box # XMIN,YMIN,XMAX,YMAX\n",
    "        self.labels = labels\n",
    "\n",
    "    def size(self):\n",
    "        \n",
    "        return self.img.shape[0:2]\n",
    "\n",
    "    def show(self):\n",
    "\n",
    "        img_to_show = self.img\n",
    "        color = (144,255,144)\n",
    "        fontFace = cv2.FONT_HERSHEY_SIMPLEX\n",
    "\n",
    "        for index, box in enumerate(self.box):\n",
    "\n",
    "            xmin, ymin = box[0], box[1]\n",
    "            xmax, ymax = box[2], box[3]\n",
    "\n",
    "            cv2.rectangle(img_to_show, (xmin, ymin), (xmax, ymax), color=color)\n",
    "            cv2.putText(img_to_show, self.labels[index], (xmax, ymax), color=color, fontFace=fontFace, fontScale=0.3)\n",
    "\n",
    "        cv2.imshow(\"image\", cv2.cvtColor(img_to_show, cv2.COLOR_RGB2BGR)) # cv2 expects BGR\n",
    "        cv2.waitKey(0)\n",
    "        cv2.destroyAllWindows()\n",
    "\n",
    "class ProcessedImage(Image):\n",
    "\n",
    "    def __init__(self, IMAGE):\n",
    "\n",
    "        img, box = utils.process_image(IMAGE)\n",
    "\n",
    "        self.img = img\n",
    "        self.box = box\n",
    "        self.labels = IMAGE.labels"
   ]
  },
  {
   "cell_type": "code",
   "execution_count": 3,
   "metadata": {},
   "outputs": [],
   "source": [
    "###############\n",
    "### TESTING ###\n",
    "###############"
   ]
  },
  {
   "cell_type": "code",
   "execution_count": 4,
   "metadata": {},
   "outputs": [
    {
     "name": "stdout",
     "output_type": "stream",
     "text": [
      "[[321, 34, 354, 69], [224, 38, 261, 73], [299, 58, 315, 81], [143, 74, 174, 115], [74, 69, 95, 99], [191, 67, 221, 93], [21, 73, 44, 93], [369, 70, 398, 99], [83, 56, 111, 89]]\n",
      "[[410, 111, 453, 226], [286, 124, 334, 239], [382, 190, 403, 265], [183, 242, 222, 377], [94, 226, 121, 324], [244, 219, 282, 305], [26, 239, 56, 305], [472, 229, 509, 324], [106, 183, 142, 292]]\n"
     ]
    }
   ],
   "source": [
    "test_img_path = \"DATASET/IMAGES/maksssksksss1.png\"\n",
    "test_box_path = \"DATASET/ANNOTATIONS/maksssksksss1.xml\"\n",
    "\n",
    "test_image = Image(test_img_path, test_box_path)\n",
    "test_processed_image = ProcessedImage(test_image)\n",
    "test_processed_image.show()"
   ]
  },
  {
   "cell_type": "code",
   "execution_count": null,
   "metadata": {},
   "outputs": [],
   "source": [
    "class TensorData:\n",
    "\n",
    "    def __init__(self, img_path, box_path):\n",
    "\n",
    "        to_tensor = utils.data_to_tensor(img_path, box_path)\n",
    "\n",
    "        # tv_tensors.Image and tv_tensors.BoundingBox\n",
    "        self.img = to_tensor['img']\n",
    "        self.box = to_tensor['box']\n",
    "        self.labels = to_tensor['labels']\n",
    "\n",
    "    def show(self):\n",
    "\n",
    "        test_plot = torchvision.utils.draw_bounding_boxes(\n",
    "            self.img,\n",
    "            self.box,\n",
    "            labels=self.labels,\n",
    "            colors=(144,238,144)\n",
    "        )\n",
    "\n",
    "        # test_plot returned as tensor object\n",
    "        \n",
    "        plt.imshow(torch.moveaxis(test_plot, 0, 2))\n",
    "        plt.show()\n",
    "\n",
    "class TransformedData(TensorData):\n",
    "\n",
    "    def __init__(self, tensor_data):\n",
    "        \n",
    "        transformed_data = utils.transform_tensor(tensor_data)\n",
    "\n",
    "        self.img = transformed_data['img']\n",
    "        self.box = transformed_data['box']\n",
    "        self.labels = tensor_data.labels\n",
    "        \n"
   ]
  },
  {
   "cell_type": "code",
   "execution_count": null,
   "metadata": {},
   "outputs": [],
   "source": [
    "###############\n",
    "### TESTING ###\n",
    "###############"
   ]
  },
  {
   "cell_type": "code",
   "execution_count": null,
   "metadata": {},
   "outputs": [],
   "source": [
    "test_img = \"DATASET/IMAGES/maksssksksss1.png\"\n",
    "test_box = \"DATASET/ANNOTATIONS/maksssksksss1.xml\"\n",
    "\n",
    "test_data = TensorData(test_img, test_box)\n",
    "test_transformed_data = TransformedData(test_data)\n",
    "\n",
    "#test_data.show()\n",
    "test_transformed_data.show()\n",
    "\n",
    "\"\"\"\n",
    "print(f\"Initial data:\\nimg : {test_data.img}\\nbox : {test_data.box}\\nlabels : {test_data.labels}\")\n",
    "print(f\"Transformed data:\\nimg : {test_transformed_data.img}\\nbox : {test_transformed_data.box}\\nlabels : {test_transformed_data.labels}\")\n",
    "\"\"\""
   ]
  }
 ],
 "metadata": {
  "kernelspec": {
   "display_name": "venv",
   "language": "python",
   "name": "python3"
  },
  "language_info": {
   "codemirror_mode": {
    "name": "ipython",
    "version": 3
   },
   "file_extension": ".py",
   "mimetype": "text/x-python",
   "name": "python",
   "nbconvert_exporter": "python",
   "pygments_lexer": "ipython3",
   "version": "3.12.4"
  }
 },
 "nbformat": 4,
 "nbformat_minor": 2
}
